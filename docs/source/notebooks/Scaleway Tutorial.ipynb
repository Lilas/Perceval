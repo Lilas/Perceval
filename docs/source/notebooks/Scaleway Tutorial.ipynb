{
 "cells": [
  {
   "cell_type": "markdown",
   "id": "c1e5e2ac",
   "metadata": {},
   "source": [
    "\n",
    "# Getting started with Perceval Scaleway\n",
    "\n",
    "perceval scaleway blabla\n",
    "\n",
    "\n",
    "## Create an account\n",
    "\n",
    "First step you have to [create an account](https://www.scaleway.com/en/docs/console/account/how-to/create-an-account/) on Scaleway Console.\n",
    "\n",
    "\n",
    "## Create a new project\n",
    "\n",
    "After that you will need to create a new project.\n",
    "To do this, click on `+ Create Project` in the `Organization Dashboard`.\n",
    "\n",
    "![console-create-project-1.png](../_static/img/scaleway/console-create-project-1.png)\n",
    "\n",
    "Choose a project name and if you want you cant add a project description and click in `Create Project`\n",
    "\n",
    "![console-create-project-2.png](../_static/img/scaleway/console-create-project-2.png)\n",
    "\n",
    "## Generate an API Key\n",
    "\n",
    "You can now Generate an API Key\n",
    "\n",
    "1. Go to the organization and click on `IAM`\n",
    "1. Click in tab `API KEY`\n",
    "1. And finally `Generate API key`\n",
    "\n",
    "![console-IAM-1.png](../_static/img/scaleway/console-IAM-1.png)\n",
    "\n",
    "Il y a deux facon de generer une api key, la premiere consiste a generer une cle d'api `Myself (IAM user)` pour toutes les application,\n",
    "l'autre facon est une facon plus 'fine' pour une application specifique.\n",
    "\n",
    "#### Generate API Key - Myself (IAM user)\n",
    "\n",
    "![console-IAM-user-1.png](../_static/img/scaleway/console-IAM-user-1.png)\n",
    "\n",
    "> We suggest you to copy and store your secret key, it will only be shown once.\n",
    "\n",
    "![console-IAM-user-2.png](../_static/img/scaleway/console-IAM-user-2.png)\n",
    "\n",
    "\n",
    "#### Generate API Key - An application\n",
    "\n",
    "TODO\n",
    "\n",
    "## Getting started with Perceval Scaleway\n",
    "\n",
    "No additional installation is required, you can use it by importing the scaleway provider:"
   ]
  },
  {
   "cell_type": "code",
   "execution_count": 4,
   "id": "793529bc",
   "metadata": {},
   "outputs": [
    {
     "ename": "TypeError",
     "evalue": "Session.__init__() got an unexpected keyword argument 'project_id'",
     "output_type": "error",
     "traceback": [
      "\u001b[0;31m---------------------------------------------------------------------------\u001b[0m",
      "\u001b[0;31mTypeError\u001b[0m                                 Traceback (most recent call last)",
      "\u001b[1;32m/Users/bonnie/Codes/LilasPerceval/docs/source/notebooks/Scaleway Tutorial.ipynb Cell 2\u001b[0m line \u001b[0;36m7\n\u001b[1;32m      <a href='vscode-notebook-cell:/Users/bonnie/Codes/LilasPerceval/docs/source/notebooks/Scaleway%20Tutorial.ipynb#X43sZmlsZQ%3D%3D?line=3'>4</a>\u001b[0m PROJECT_ID\u001b[39m=\u001b[39m\u001b[39m\"\u001b[39m\u001b[39m48a086e4-2426-4329-b9e0-e6575bc12134\u001b[39m\u001b[39m\"\u001b[39m\n\u001b[1;32m      <a href='vscode-notebook-cell:/Users/bonnie/Codes/LilasPerceval/docs/source/notebooks/Scaleway%20Tutorial.ipynb#X43sZmlsZQ%3D%3D?line=4'>5</a>\u001b[0m TOKEN \u001b[39m=\u001b[39m \u001b[39m\"\u001b[39m\u001b[39myour-scaleway-token\u001b[39m\u001b[39m\"\u001b[39m\n\u001b[0;32m----> <a href='vscode-notebook-cell:/Users/bonnie/Codes/LilasPerceval/docs/source/notebooks/Scaleway%20Tutorial.ipynb#X43sZmlsZQ%3D%3D?line=6'>7</a>\u001b[0m session \u001b[39m=\u001b[39m scw\u001b[39m.\u001b[39;49mSession(\n\u001b[1;32m      <a href='vscode-notebook-cell:/Users/bonnie/Codes/LilasPerceval/docs/source/notebooks/Scaleway%20Tutorial.ipynb#X43sZmlsZQ%3D%3D?line=7'>8</a>\u001b[0m   platform\u001b[39m=\u001b[39;49mPLATFORM_NAME,\n\u001b[1;32m      <a href='vscode-notebook-cell:/Users/bonnie/Codes/LilasPerceval/docs/source/notebooks/Scaleway%20Tutorial.ipynb#X43sZmlsZQ%3D%3D?line=8'>9</a>\u001b[0m   project_id\u001b[39m=\u001b[39;49mPROJECT_ID,\n\u001b[1;32m     <a href='vscode-notebook-cell:/Users/bonnie/Codes/LilasPerceval/docs/source/notebooks/Scaleway%20Tutorial.ipynb#X43sZmlsZQ%3D%3D?line=9'>10</a>\u001b[0m   token\u001b[39m=\u001b[39;49mTOKEN,\n\u001b[1;32m     <a href='vscode-notebook-cell:/Users/bonnie/Codes/LilasPerceval/docs/source/notebooks/Scaleway%20Tutorial.ipynb#X43sZmlsZQ%3D%3D?line=10'>11</a>\u001b[0m   max_duration\u001b[39m=\u001b[39;49m\u001b[39m\"\u001b[39;49m\u001b[39m30s\u001b[39;49m\u001b[39m\"\u001b[39;49m\n\u001b[1;32m     <a href='vscode-notebook-cell:/Users/bonnie/Codes/LilasPerceval/docs/source/notebooks/Scaleway%20Tutorial.ipynb#X43sZmlsZQ%3D%3D?line=11'>12</a>\u001b[0m )\n",
      "\u001b[0;31mTypeError\u001b[0m: Session.__init__() got an unexpected keyword argument 'project_id'"
     ]
    }
   ],
   "source": [
    "import perceval.providers.scaleway as scw\n",
    "\n",
    "PLATFORM_NAME = \"sim:clifford\"\n",
    "PROJECT_ID=\"your-project-id\"\n",
    "TOKEN = \"your-scaleway-token\"\n",
    "\n"
   ]
  }
 ],
 "metadata": {
  "kernelspec": {
   "display_name": "venv",
   "language": "python",
   "name": "python3"
  },
  "language_info": {
   "codemirror_mode": {
    "name": "ipython",
    "version": 3
   },
   "file_extension": ".py",
   "mimetype": "text/x-python",
   "name": "python",
   "nbconvert_exporter": "python",
   "pygments_lexer": "ipython3",
   "version": "3.11.6"
  }
 },
 "nbformat": 4,
 "nbformat_minor": 5
}
