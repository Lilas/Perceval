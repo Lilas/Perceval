{
 "cells": [
  {
   "cell_type": "markdown",
   "id": "c1e5e2ac",
   "metadata": {},
   "source": [
    "# Getting started with Perceval Scaleway\n",
    "\n",
    "perceval scaleway blabla\n",
    "\n",
    "## Create an account\n",
    "\n",
    "First step, you have to [create an account](https://www.scaleway.com/en/docs/console/account/how-to/create-an-account/) on Scaleway Console.\n",
    "\n",
    "## Create a new project\n",
    "\n",
    "After that you will need to create a new project:\n",
    "\n",
    "1. Click on `+ Create Project` button in the `Organization Dashboard` menu.\n",
    "\n",
    "![console-create-project-1.png](../_static/img/scaleway/console-create-project-1.png)\n",
    "\n",
    "2. Enter a `Project name` and optionnaly a `Project description`.\n",
    "3. Click on `Create Project` to validate the project creation.\n",
    "\n",
    "![console-create-project-2.png](../_static/img/scaleway/console-create-project-2.png)\n",
    "\n",
    "## Generate an API Key\n",
    "\n",
    "You can now generate an API key:\n",
    "\n",
    "1. Click on `IAM` entry in the `Orgazination` menu.\n",
    "2. Navigate to the `API KEY` tab.\n",
    "3. Click on the `+ Generate API key` button.\n",
    "\n",
    "![console-IAM-1.png](../_static/img/scaleway/console-IAM-1.png)\n",
    "\n",
    "There exist two manners to generate an API key: either by generating a key for all applications (`Myself (IAM user)`), or by generating a key with finner acces to some specific applications (`An application`).\n",
    "\n",
    "#### Generate API Key - Myself (IAM user)\n",
    "\n",
    "![console-IAM-user-1.png](../_static/img/scaleway/console-IAM-user-1.png)\n",
    "\n",
    "We suggest you to copy and store your secret key, it will only be shown once.\n",
    "\n",
    "![console-IAM-user-2.png](../_static/img/scaleway/console-IAM-user-2.png)\n",
    "\n",
    "#### Generate API Key - An application\n",
    "\n",
    "TODO\n",
    "\n",
    "## Getting started with Perceval Scaleway\n",
    "\n",
    "No additional installation is required, you can use it by importing the scaleway provider:"
   ]
  },
  {
   "cell_type": "code",
   "execution_count": null,
   "id": "cf95eb7e",
   "metadata": {},
   "outputs": [],
   "source": [
    "import perceval.providers.scaleway as scw\n",
    "import perceval as pcvl\n",
    "from perceval.algorithm import Sampler\n",
    "\n",
    "import json\n",
    "\n",
    "\n",
    "PLATFORM_NAME = \"sim:clifford\"\n",
    "PROJECT_ID=\"your-project-id\"\n",
    "TOKEN = \"your-scaleway-token\"\n"
   ]
  },
  {
   "cell_type": "code",
   "execution_count": 13,
   "id": "793529bc",
   "metadata": {},
   "outputs": [
    {
     "name": "stdout",
     "output_type": "stream",
     "text": [
      "{'results': [':PCVL:BasicState:|0,2>'], 'physical_perf': 1, 'logical_perf': 1}\n"
     ]
    }
   ],
   "source": [
    "session = scw.Session(platform=PLATFORM_NAME, project_id=PROJECT_ID, token=TOKEN)\n",
    "\n",
    "session.start()\n",
    "\n",
    "processor = session.build_remote_processor()\n",
    "\n",
    "processor.set_circuit(pcvl.BS())\n",
    "processor.with_input(pcvl.BasicState('|1,1>'))\n",
    "\n",
    "sampler = Sampler(processor)\n",
    "remote_job = sampler.samples(1)\n",
    "\n",
    "parsed_data = json.loads(remote_job)\n",
    "\n",
    "print(parsed_data)\n",
    "\n",
    "session.stop()\n"
   ]
  },
  {
   "cell_type": "code",
   "execution_count": 14,
   "id": "59f8e65f",
   "metadata": {},
   "outputs": [
    {
     "name": "stdout",
     "output_type": "stream",
     "text": [
      "{'results': [':PCVL:BasicState:|2,0>'], 'physical_perf': 1, 'logical_perf': 1}\n"
     ]
    }
   ],
   "source": [
    "with scw.Session(platform=PLATFORM_NAME, project_id=PROJECT_ID, token=TOKEN) as session:\n",
    "  processor = session.build_remote_processor()\n",
    "\n",
    "  processor.set_circuit(pcvl.BS())\n",
    "  processor.with_input(pcvl.BasicState('|1,1>'))\n",
    "\n",
    "  sampler = Sampler(processor)\n",
    "  remote_job = sampler.samples(1)\n",
    "\n",
    "  parsed_data = json.loads(remote_job)\n",
    "  print(parsed_data)\n"
   ]
  }
 ],
 "metadata": {
  "kernelspec": {
   "display_name": "venv",
   "language": "python",
   "name": "python3"
  },
  "language_info": {
   "codemirror_mode": {
    "name": "ipython",
    "version": 3
   },
   "file_extension": ".py",
   "mimetype": "text/x-python",
   "name": "python",
   "nbconvert_exporter": "python",
   "pygments_lexer": "ipython3",
   "version": "3.11.6"
  }
 },
 "nbformat": 4,
 "nbformat_minor": 5
}
